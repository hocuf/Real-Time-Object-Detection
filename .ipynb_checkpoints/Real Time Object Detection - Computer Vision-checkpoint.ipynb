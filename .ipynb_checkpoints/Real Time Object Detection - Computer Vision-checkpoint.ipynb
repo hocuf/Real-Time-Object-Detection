{
 "cells": [
  {
   "cell_type": "markdown",
   "id": "c57b67d7",
   "metadata": {},
   "source": [
    "# Real Time Object Detection"
   ]
  },
  {
   "cell_type": "markdown",
   "id": "ad3bbd53",
   "metadata": {},
   "source": [
    "**Computer Vision Project for real-time object detection.**"
   ]
  },
  {
   "cell_type": "code",
   "execution_count": null,
   "id": "092f31cd",
   "metadata": {},
   "outputs": [],
   "source": [
    "#importing libraries\n",
    "\n",
    "import cv2\n",
    "import cvlib as cv\n",
    "from cvlib.object_detection import draw_bbox # automatic object detection library"
   ]
  },
  {
   "cell_type": "code",
   "execution_count": 3,
   "id": "77421afb",
   "metadata": {},
   "outputs": [],
   "source": [
    "# Starting Camera\n",
    "cap = cv2.VideoCapture(0)\n",
    "\n",
    "while True:\n",
    "    # read frames\n",
    "    ret, frame = cap.read()\n",
    "\n",
    "    # Object Detection\n",
    "    bbox, label, conf = cv.detect_common_objects(frame, confidence=0.5, model='yolov4-tiny')\n",
    "\n",
    "    # Drow frame around objects\n",
    "    output = draw_bbox(frame, bbox, label, conf)\n",
    "\n",
    "    # show window\n",
    "    cv2.imshow('Object Detection', output)\n",
    "\n",
    "    # q quit\n",
    "    if cv2.waitKey(1) & 0xFF == ord('q'):\n",
    "        break\n",
    "\n",
    "# clear screen\n",
    "cap.release()\n",
    "cv2.destroyAllWindows()\n"
   ]
  },
  {
   "cell_type": "code",
   "execution_count": null,
   "id": "33f76db7",
   "metadata": {},
   "outputs": [],
   "source": []
  }
 ],
 "metadata": {
  "kernelspec": {
   "display_name": "Python 3 (ipykernel)",
   "language": "python",
   "name": "python3"
  },
  "language_info": {
   "codemirror_mode": {
    "name": "ipython",
    "version": 3
   },
   "file_extension": ".py",
   "mimetype": "text/x-python",
   "name": "python",
   "nbconvert_exporter": "python",
   "pygments_lexer": "ipython3",
   "version": "3.9.16"
  }
 },
 "nbformat": 4,
 "nbformat_minor": 5
}
